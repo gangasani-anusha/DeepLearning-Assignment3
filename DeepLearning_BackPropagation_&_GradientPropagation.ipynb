{
  "nbformat": 4,
  "nbformat_minor": 0,
  "metadata": {
    "colab": {
      "name": "DeepLearning_BackPropagation & GradientPropagation.ipynb",
      "provenance": [],
      "collapsed_sections": [
        "6j53zcbMAh4x",
        "exny6OyvAp4B",
        "2bfNJt1FAZcX",
        "B-K9GU3BAOCS"
      ],
      "authorship_tag": "ABX9TyNf4oVhRkTmBWmxsJgmapuL",
      "include_colab_link": true
    },
    "kernelspec": {
      "name": "python3",
      "display_name": "Python 3"
    },
    "language_info": {
      "name": "python"
    }
  },
  "cells": [
    {
      "cell_type": "markdown",
      "metadata": {
        "id": "view-in-github",
        "colab_type": "text"
      },
      "source": [
        "<a href=\"https://colab.research.google.com/github/gangasani-anusha/DeepLearning-Assignment3/blob/main/DeepLearning_BackPropagation_%26_GradientPropagation.ipynb\" target=\"_parent\"><img src=\"https://colab.research.google.com/assets/colab-badge.svg\" alt=\"Open In Colab\"/></a>"
      ]
    },
    {
      "cell_type": "markdown",
      "source": [
        "### `Creating Environment`"
      ],
      "metadata": {
        "id": "6j53zcbMAh4x"
      }
    },
    {
      "cell_type": "code",
      "execution_count": null,
      "metadata": {
        "id": "ZyQY3HuQ-NCM"
      },
      "outputs": [],
      "source": [
        "!pip install pytorch-lightning"
      ]
    },
    {
      "cell_type": "code",
      "source": [
        "!python --version"
      ],
      "metadata": {
        "colab": {
          "base_uri": "https://localhost:8080/"
        },
        "id": "34M0SrzZ-auP",
        "outputId": "9a012c2d-737a-48ea-c085-1a80042203b8"
      },
      "execution_count": 2,
      "outputs": [
        {
          "output_type": "stream",
          "name": "stdout",
          "text": [
            "Python 3.7.12\n"
          ]
        }
      ]
    },
    {
      "cell_type": "code",
      "source": [
        "!pip list | grep tensor"
      ],
      "metadata": {
        "colab": {
          "base_uri": "https://localhost:8080/"
        },
        "id": "zfQHGRU5-fXW",
        "outputId": "0c8c1b4b-ab13-45a0-9911-085b2168176e"
      },
      "execution_count": 3,
      "outputs": [
        {
          "output_type": "stream",
          "name": "stdout",
          "text": [
            "tensorboard                   2.8.0\n",
            "tensorboard-data-server       0.6.1\n",
            "tensorboard-plugin-wit        1.8.1\n",
            "tensorflow                    2.8.0\n",
            "tensorflow-datasets           4.0.1\n",
            "tensorflow-estimator          2.8.0\n",
            "tensorflow-gcs-config         2.8.0\n",
            "tensorflow-hub                0.12.0\n",
            "tensorflow-io-gcs-filesystem  0.24.0\n",
            "tensorflow-metadata           1.7.0\n",
            "tensorflow-probability        0.16.0\n"
          ]
        }
      ]
    },
    {
      "cell_type": "code",
      "source": [
        "!pip list | grep torch"
      ],
      "metadata": {
        "colab": {
          "base_uri": "https://localhost:8080/"
        },
        "id": "O8VmpEVg-hkb",
        "outputId": "0a5e5429-e50c-4e6c-be6c-502ced88299f"
      },
      "execution_count": 4,
      "outputs": [
        {
          "output_type": "stream",
          "name": "stdout",
          "text": [
            "pytorch-lightning             1.5.10\n",
            "torch                         1.10.0+cu111\n",
            "torchaudio                    0.10.0+cu111\n",
            "torchmetrics                  0.7.2\n",
            "torchsummary                  1.5.1\n",
            "torchtext                     0.11.0\n",
            "torchvision                   0.11.1+cu111\n"
          ]
        }
      ]
    },
    {
      "cell_type": "code",
      "source": [
        "import numpy as np\n",
        "import matplotlib.pyplot as plt\n",
        "import torch\n",
        "import torch.nn as nn\n",
        "import pytorch_lightning as pl\n",
        "from tensorflow import keras\n",
        "from tensorflow.keras import layers\n",
        "from tensorflow.keras import optimizers\n",
        "from typing import Callable"
      ],
      "metadata": {
        "id": "LWCUYnKc-lOn"
      },
      "execution_count": 5,
      "outputs": []
    },
    {
      "cell_type": "markdown",
      "source": [
        "### `Linear Regression & MSE`"
      ],
      "metadata": {
        "id": "exny6OyvAp4B"
      }
    },
    {
      "cell_type": "code",
      "source": [
        "n = 25\n",
        "d = 1\n",
        "x = np.random.uniform(-1, 1, (n, d))\n",
        "# y = 5x + 10\n",
        "true_weights = np.array([[12],])\n",
        "true_bias = np.array([7])\n",
        "\n",
        "y_true = x @ true_weights + true_bias\n",
        "print(f'x: {x.shape}, weights: {true_weights.shape}, bias: {true_bias.shape}, y: {y_true.shape}')\n",
        "\n",
        "plt.plot(x, y_true, marker='x', label='underlying function')\n",
        "plt.legend()"
      ],
      "metadata": {
        "colab": {
          "base_uri": "https://localhost:8080/",
          "height": 300
        },
        "id": "bHmVcZZx-l22",
        "outputId": "69581000-e89f-41ba-e162-758c33eeb008"
      },
      "execution_count": 21,
      "outputs": [
        {
          "output_type": "stream",
          "name": "stdout",
          "text": [
            "x: (25, 1), weights: (1, 1), bias: (1,), y: (25, 1)\n"
          ]
        },
        {
          "output_type": "execute_result",
          "data": {
            "text/plain": [
              "<matplotlib.legend.Legend at 0x7f6d7229d8d0>"
            ]
          },
          "metadata": {},
          "execution_count": 21
        },
        {
          "output_type": "display_data",
          "data": {
            "image/png": "[encoded data removed]",
            "text/plain": [
              "<Figure size 432x288 with 1 Axes>"
            ]
          },
          "metadata": {
            "needs_background": "light"
          }
        }
      ]
    },
    {
      "cell_type": "code",
      "source": [
        "class Linear:\n",
        "  def __init__(self, input_dim, num_hidden=1):\n",
        "    self.wt = np.random.randn(input_dim, num_hidden) * np.sqrt(2. / input_dim)\n",
        "    self.bias = np.zeros(num_hidden)\n",
        "  \n",
        "  def __call__(self, x):\n",
        "    return x @ self.wt + self.bias\n",
        "\n",
        "ln = Linear(d)\n",
        "y_pred = ln(x)\n",
        "plt.plot(x, y_true, marker='x', label='underlying function')\n",
        "plt.scatter(x, y_pred, color='r', marker='.', label='our function')\n",
        "plt.legend()"
      ],
      "metadata": {
        "colab": {
          "base_uri": "https://localhost:8080/",
          "height": 283
        },
        "id": "sWpTWMPb-rAq",
        "outputId": "1d562269-831d-44bc-b501-9af1f78d314b"
      },
      "execution_count": 22,
      "outputs": [
        {
          "output_type": "execute_result",
          "data": {
            "text/plain": [
              "<matplotlib.legend.Legend at 0x7f6d721f7b50>"
            ]
          },
          "metadata": {},
          "execution_count": 22
        },
        {
          "output_type": "display_data",
          "data": {
            "image/png": "[encoded data removed]",
            "text/plain": [
              "<Figure size 432x288 with 1 Axes>"
            ]
          },
          "metadata": {
            "needs_background": "light"
          }
        }
      ]
    },
    {
      "cell_type": "code",
      "source": [
        "class MSE:\n",
        "  def __call__(self, y_pred, y_true):\n",
        "    self.y_pred = y_pred\n",
        "    self.y_true = y_true\n",
        "    return ((y_true - y_pred) ** 2).mean()\n",
        "  \n",
        "loss = MSE()\n",
        "print(f'Our initial loss is {loss(y_pred, y_true)}')"
      ],
      "metadata": {
        "colab": {
          "base_uri": "https://localhost:8080/"
        },
        "id": "tZQImCG4-t44",
        "outputId": "97c0795c-e46a-4170-c2d6-c71fafd5603c"
      },
      "execution_count": 23,
      "outputs": [
        {
          "output_type": "stream",
          "name": "stdout",
          "text": [
            "Our initial loss is 86.88780972984316\n"
          ]
        }
      ]
    },
    {
      "cell_type": "markdown",
      "source": [
        "### `Back Propagation`"
      ],
      "metadata": {
        "id": "2bfNJt1FAZcX"
      }
    },
    {
      "cell_type": "code",
      "source": [
        "class MSE:\n",
        "  def __call__(self, y_pred, y_true):\n",
        "    self.y_pred = y_pred\n",
        "    self.y_true = y_true\n",
        "    return ((y_pred - y_true) ** 2).mean()\n",
        "\n",
        "  def backward(self):\n",
        "    n = self.y_true.shape[0]\n",
        "    self.gradient = 2. * (self.y_pred - self.y_true) / n\n",
        "    return self.gradient\n",
        "\n",
        "\n",
        "class Linear:\n",
        "  def __init__(self, input_dim: int, num_hidden: int = 1):\n",
        "    self.wt = np.random.randn(input_dim, num_hidden) * np.sqrt(2. / input_dim)\n",
        "    self.bias = np.zeros(num_hidden)\n",
        "  \n",
        "  def __call__(self, x):\n",
        "    self.x = x\n",
        "    output = x @ self.wt + self.bias\n",
        "    return output\n",
        "\n",
        "  def backward(self, gradient):\n",
        "    self.weights_gradient = self.x.T @ gradient\n",
        "    self.bias_gradient = gradient.sum(axis=0)\n",
        "    self.x_gradient = gradient @ self.wt.T\n",
        "    return self.x_gradient\n",
        "\n",
        "  def update(self, lr):\n",
        "    self.wt = self.wt - lr * self.weights_gradient\n",
        "    self.bias = self.bias - lr * self.bias_gradient"
      ],
      "metadata": {
        "id": "rvmQ9H7d-wbl"
      },
      "execution_count": 9,
      "outputs": []
    },
    {
      "cell_type": "code",
      "source": [
        "loss = MSE()\n",
        "ln = Linear(d)\n",
        "y_pred = ln(x)\n",
        "print(loss(y_pred, y_true))\n",
        "loss_gradient = loss.backward()\n",
        "ln.backward(loss_gradient)\n",
        "ln.update(0.5)\n",
        "y_pred = ln(x)\n",
        "print(loss(y_pred, y_true))"
      ],
      "metadata": {
        "colab": {
          "base_uri": "https://localhost:8080/"
        },
        "id": "iGXHSSSQ-zF4",
        "outputId": "3269b83d-a154-46a6-f899-503d7e2f21c9"
      },
      "execution_count": 15,
      "outputs": [
        {
          "output_type": "stream",
          "name": "stdout",
          "text": [
            "105.55578071357145\n",
            "2.807901504652496\n"
          ]
        }
      ]
    },
    {
      "cell_type": "markdown",
      "source": [
        "### `Gradient Descent`\n"
      ],
      "metadata": {
        "id": "B-K9GU3BAOCS"
      }
    },
    {
      "cell_type": "code",
      "source": [
        "plt.plot(x, y_true, marker='x', label='underlying function')\n",
        "\n",
        "loss = MSE()\n",
        "ln = Linear(d)\n",
        "\n",
        "num_epochs = 15\n",
        "lr = 0.1\n",
        "\n",
        "for epoch in range(num_epochs):\n",
        "  y_pred = ln(x)\n",
        "  loss_value = loss(y_pred, y_true)\n",
        "\n",
        "  if epoch % 5 == 0:\n",
        "    print(f'Epoch {epoch}, loss {loss_value}')\n",
        "    plt.plot(x, y_pred.squeeze(), label=f'Epoch {epoch}')\n",
        "\n",
        "  gradient_from_loss = loss.backward()\n",
        "  ln.backward(gradient_from_loss)\n",
        "  ln.update(lr)\n",
        "\n",
        "plt.legend(bbox_to_anchor=(1.04, 1), loc=\"upper left\");"
      ],
      "metadata": {
        "colab": {
          "base_uri": "https://localhost:8080/",
          "height": 318
        },
        "id": "_8N3xNAf-3DG",
        "outputId": "6e4bd261-2756-4867-b090-073310cb889a"
      },
      "execution_count": 14,
      "outputs": [
        {
          "output_type": "stream",
          "name": "stdout",
          "text": [
            "Epoch 0, loss 110.03554507833124\n",
            "Epoch 5, loss 16.204101134973502\n",
            "Epoch 10, loss 4.019268986084562\n"
          ]
        },
        {
          "output_type": "display_data",
          "data": {
            "image/png": "[encoded data removed]",
            "text/plain": [
              "<Figure size 432x288 with 1 Axes>"
            ]
          },
          "metadata": {
            "needs_background": "light"
          }
        }
      ]
    }
  ]
}